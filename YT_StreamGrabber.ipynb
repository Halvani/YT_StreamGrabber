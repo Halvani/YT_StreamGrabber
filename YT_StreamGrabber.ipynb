{
 "cells": [
  {
   "cell_type": "code",
   "execution_count": 2,
   "metadata": {},
   "outputs": [],
   "source": [
    "import ttkbootstrap as ttk\n",
    "from ttkbootstrap.constants import *\n",
    "\n",
    "    \n",
    "root = ttk.Window(title=\"YT_StreamGrabber\",\n",
    "                  size=(573, 185),\n",
    "                  resizable=(False, False))\n",
    "\n",
    "root.attributes('-topmost',True)\n",
    "root.place_window_center()\n",
    "\n",
    "\n",
    "bg_color = \"#ece7f2\"\n",
    "\n",
    "lbl_url = ttk.Label(root, text=\"YT-URL:\") #, bg=bg_color)\n",
    "lbl_url.pack(side=LEFT, padx=5, pady=10)\n",
    "\n",
    "txt_folder = ttk.Entry(width=60)\n",
    "txt_folder.pack(side=LEFT, padx=5, pady=10)\n",
    "\n",
    "b1 = ttk.Button(root, text=\"Paste from Clipboard...\", bootstyle=SUCCESS)\n",
    "b1.pack(side=LEFT, padx=5, pady=10)\n",
    "\n",
    "# b2 = ttk.Button(root, text=\"Button 2\", bootstyle=(INFO, OUTLINE))\n",
    "# b2.pack(side=LEFT, padx=5, pady=10)\n",
    "\n",
    "\n",
    "root.mainloop()\n"
   ]
  },
  {
   "cell_type": "markdown",
   "metadata": {},
   "source": [
    "### Necessary imports"
   ]
  },
  {
   "cell_type": "code",
   "execution_count": null,
   "metadata": {},
   "outputs": [],
   "source": [
    "import re\n",
    "from enum import Enum\n",
    "from pathlib import Path\n",
    "from tqdm.auto import tqdm\n",
    "import webbrowser\n",
    "from pytube import YouTube, Playlist"
   ]
  },
  {
   "cell_type": "markdown",
   "metadata": {},
   "source": [
    "### Functions"
   ]
  },
  {
   "cell_type": "code",
   "execution_count": null,
   "metadata": {},
   "outputs": [],
   "source": [
    "class StreamType(Enum):\n",
    "    Audio = 1\n",
    "    Video = 2\n",
    "\n",
    "def download_yt_stream(url=None, dest_folder=None, stream_type=StreamType.Video, open_download_folder=False):     \n",
    "    if url is None or len(url.strip()) == 0: \n",
    "        url = input()\n",
    "    \n",
    "    dest_folder = dest_folder if dest_folder is not None and dest_folder != '' and Path(dest_folder).exists() else ''\n",
    "               \n",
    "    try:\n",
    "        yt = YouTube(url)        \n",
    "        filename = ''    \n",
    "        stream = None\n",
    "        if stream_type == StreamType.Audio:\n",
    "            stream = yt.streams.get_audio_only()\n",
    "            filename = re.sub(r'\\s{2,}', ' ', stream.default_filename.replace(\".mp4\", \".mp3\"))\n",
    "        elif stream_type == StreamType.Video:\n",
    "            stream = yt.streams.get_highest_resolution()\n",
    "            filename = re.sub(r'\\s{2,}', ' ', stream.default_filename)   \n",
    "            \n",
    "        stream.download(filename=Path(dest_folder, filename))      \n",
    "        if open_download_folder: \n",
    "            webbrowser.open(dest_folder)\n",
    "        return f'✔️ {filename}'    \n",
    "    except Exception as e:\n",
    "        return f'❌ {url} ► cannot be downloaded --> Exception: {e}'\n",
    "\n",
    "def download_yt_streams(list_of_urls=None, dest_folder=None, stream_type=StreamType.Video):\n",
    "    if list_of_urls is not None and len(list_of_urls) > 0:\n",
    "        for url in tqdm(list_of_urls):\n",
    "            print(download_yt_stream(url, dest_folder=dest_folder, stream_type=stream_type))     \n",
    "        \n",
    "def download_yt_streams_from_playlist(playlist_url=None, dest_folder=None, stream_type=StreamType.Video):\n",
    "    if playlist_url is None or len(playlist_url.strip()) == 0: \n",
    "        playlist_url = input()   \n",
    "    download_yt_streams(Playlist(playlist_url).video_urls, dest_folder=dest_folder, stream_type=stream_type)"
   ]
  },
  {
   "cell_type": "markdown",
   "metadata": {},
   "source": [
    "### Download a single audio..."
   ]
  },
  {
   "cell_type": "code",
   "execution_count": null,
   "metadata": {},
   "outputs": [],
   "source": [
    "download_yt_stream(stream_type=StreamType.Audio, open_download_folder=True)"
   ]
  },
  {
   "cell_type": "markdown",
   "metadata": {},
   "source": [
    "### ... or a single video"
   ]
  },
  {
   "cell_type": "code",
   "execution_count": null,
   "metadata": {},
   "outputs": [],
   "source": [
    "download_yt_stream()"
   ]
  },
  {
   "cell_type": "markdown",
   "metadata": {},
   "source": [
    "### ... multiple videos (or audios)"
   ]
  },
  {
   "cell_type": "code",
   "execution_count": null,
   "metadata": {},
   "outputs": [],
   "source": [
    "urls = []\n",
    "while True:\n",
    "    user_input = input(\"Enter url: \")    \n",
    "    if user_input == \"quit\":\n",
    "        break\n",
    "    else: \n",
    "        urls.append(user_input.replace('Enter url: ', ''))\n",
    "        \n",
    "download_yt_streams(urls, stream_type=StreamType.Video)"
   ]
  },
  {
   "cell_type": "markdown",
   "metadata": {},
   "source": [
    "### ... or an entire playlist"
   ]
  },
  {
   "cell_type": "code",
   "execution_count": null,
   "metadata": {},
   "outputs": [],
   "source": [
    "download_yt_streams_from_playlist()"
   ]
  }
 ],
 "metadata": {
  "kernelspec": {
   "display_name": "Python 3 (ipykernel)",
   "language": "python",
   "name": "python3"
  },
  "language_info": {
   "codemirror_mode": {
    "name": "ipython",
    "version": 3
   },
   "file_extension": ".py",
   "mimetype": "text/x-python",
   "name": "python",
   "nbconvert_exporter": "python",
   "pygments_lexer": "ipython3",
   "version": "3.12.2"
  },
  "varInspector": {
   "cols": {
    "lenName": 16,
    "lenType": 16,
    "lenVar": 40
   },
   "kernels_config": {
    "python": {
     "delete_cmd_postfix": "",
     "delete_cmd_prefix": "del ",
     "library": "var_list.py",
     "varRefreshCmd": "print(var_dic_list())"
    },
    "r": {
     "delete_cmd_postfix": ") ",
     "delete_cmd_prefix": "rm(",
     "library": "var_list.r",
     "varRefreshCmd": "cat(var_dic_list()) "
    }
   },
   "types_to_exclude": [
    "module",
    "function",
    "builtin_function_or_method",
    "instance",
    "_Feature"
   ],
   "window_display": false
  }
 },
 "nbformat": 4,
 "nbformat_minor": 2
}
